{
 "cells": [
  {
   "cell_type": "code",
   "execution_count": 2,
   "metadata": {},
   "outputs": [
    {
     "name": "stderr",
     "output_type": "stream",
     "text": [
      "/Users/aidand/dev/hello-fine-tune/env/lib/python3.10/site-packages/tqdm/auto.py:21: TqdmWarning: IProgress not found. Please update jupyter and ipywidgets. See https://ipywidgets.readthedocs.io/en/stable/user_install.html\n",
      "  from .autonotebook import tqdm as notebook_tqdm\n"
     ]
    }
   ],
   "source": [
    "import datasets\n",
    "\n",
    "dataset = datasets.load_dataset(\"princeton-nlp/SWE-bench\")\n",
    "\n",
    "df = dataset[\"train\"].to_pandas()"
   ]
  },
  {
   "cell_type": "code",
   "execution_count": 3,
   "metadata": {},
   "outputs": [
    {
     "name": "stdout",
     "output_type": "stream",
     "text": [
      "Found 35 unique repositories:\n",
      "['DataDog/integrations-core' 'JohnSnowLabs/spark-nlp'\n",
      " 'Lightning-AI/lightning' 'PrefectHQ/prefect' 'Qiskit/qiskit'\n",
      " 'apache/airflow' 'apache/mxnet' 'celery/celery' 'conan-io/conan'\n",
      " 'conda/conda' 'dagster-io/dagster' 'docker/compose' 'explosion/spaCy'\n",
      " 'gitpython-developers/GitPython' 'google/jax'\n",
      " 'googleapis/google-cloud-python' 'huggingface/transformers'\n",
      " 'ipython/ipython' 'jupyterlab/jupyterlab' 'kubeflow/pipelines'\n",
      " 'mesonbuild/meson' 'numpy/numpy' 'open-mmlab/mmdetection'\n",
      " 'pandas-dev/pandas' 'pantsbuild/pants' 'pyca/cryptography' 'pypa/pip'\n",
      " 'python/typeshed' 'ray-project/ray' 'scipy/scipy' 'tensorflow/models'\n",
      " 'tiangolo/fastapi' 'twisted/twisted' 'wagtail/wagtail'\n",
      " 'ytdl-org/youtube-dl']\n"
     ]
    }
   ],
   "source": [
    "# Extract unique repository names from the dataset\n",
    "repo_names = df['repo'].unique()\n",
    "print(f\"Found {len(repo_names)} unique repositories:\")\n",
    "print(repo_names)\n"
   ]
  }
 ],
 "metadata": {
  "kernelspec": {
   "display_name": "Python 3",
   "language": "python",
   "name": "python3"
  },
  "language_info": {
   "codemirror_mode": {
    "name": "ipython",
    "version": 3
   },
   "file_extension": ".py",
   "mimetype": "text/x-python",
   "name": "python",
   "nbconvert_exporter": "python",
   "pygments_lexer": "ipython3",
   "version": "3.10.16"
  }
 },
 "nbformat": 4,
 "nbformat_minor": 2
}
